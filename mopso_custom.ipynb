{
 "cells": [
  {
   "cell_type": "markdown",
   "id": "c4f26a23",
   "metadata": {},
   "source": [
    "# 🧬 MOPSO - Multi-Objective Particle Swarm Optimization\n",
    "\n",
    "Ce notebook permet d'appliquer l'algorithme PSO à des **problèmes d'optimisation multi-objectifs** en fournissant **n'importe quelle fonction objectif personnalisée**. Il génère un front de Pareto pour les solutions non-dominées.\n",
    "\n",
    "\n",
    "Elle permet de résoudre n'importe quel problème multi-objectifs. Il te suffit de modifier la fonction suivante :\n",
    "\n",
    "python\n",
    "Copier\n",
    "Modifier\n",
    "\n",
    "def example_objective(x):\n",
    "    # Exemple : f1 = x[0], f2 = 1 - sqrt(x[0])\n",
    "    return np.array([f1, f2])\n"
   ]
  },
  {
   "cell_type": "code",
   "execution_count": 1,
   "id": "350157fe",
   "metadata": {},
   "outputs": [
    {
     "name": "stdout",
     "output_type": "stream",
     "text": [
      "Requirement already satisfied: numpy in c:\\users\\hp\\anaconda3\\envs\\ox_env\\lib\\site-packages (2.2.6)\n",
      "Requirement already satisfied: matplotlib in c:\\users\\hp\\anaconda3\\envs\\ox_env\\lib\\site-packages (3.10.3)\n",
      "Requirement already satisfied: contourpy>=1.0.1 in c:\\users\\hp\\anaconda3\\envs\\ox_env\\lib\\site-packages (from matplotlib) (1.3.2)\n",
      "Requirement already satisfied: cycler>=0.10 in c:\\users\\hp\\anaconda3\\envs\\ox_env\\lib\\site-packages (from matplotlib) (0.12.1)\n",
      "Requirement already satisfied: fonttools>=4.22.0 in c:\\users\\hp\\anaconda3\\envs\\ox_env\\lib\\site-packages (from matplotlib) (4.58.2)\n",
      "Requirement already satisfied: kiwisolver>=1.3.1 in c:\\users\\hp\\anaconda3\\envs\\ox_env\\lib\\site-packages (from matplotlib) (1.4.8)\n",
      "Requirement already satisfied: packaging>=20.0 in c:\\users\\hp\\anaconda3\\envs\\ox_env\\lib\\site-packages (from matplotlib) (25.0)\n",
      "Requirement already satisfied: pillow>=8 in c:\\users\\hp\\anaconda3\\envs\\ox_env\\lib\\site-packages (from matplotlib) (11.2.1)\n",
      "Requirement already satisfied: pyparsing>=2.3.1 in c:\\users\\hp\\anaconda3\\envs\\ox_env\\lib\\site-packages (from matplotlib) (3.2.3)\n",
      "Requirement already satisfied: python-dateutil>=2.7 in c:\\users\\hp\\anaconda3\\envs\\ox_env\\lib\\site-packages (from matplotlib) (2.9.0.post0)\n",
      "Requirement already satisfied: six>=1.5 in c:\\users\\hp\\anaconda3\\envs\\ox_env\\lib\\site-packages (from python-dateutil>=2.7->matplotlib) (1.17.0)\n",
      "Note: you may need to restart the kernel to use updated packages.\n"
     ]
    }
   ],
   "source": [
    "pip install numpy matplotlib"
   ]
  },
  {
   "cell_type": "code",
   "execution_count": 2,
   "id": "c9799e13",
   "metadata": {},
   "outputs": [],
   "source": [
    "import numpy as np\n",
    "import matplotlib.pyplot as plt\n",
    "from typing import Callable, List"
   ]
  },
  {
   "cell_type": "code",
   "execution_count": 5,
   "id": "16999fe7",
   "metadata": {},
   "outputs": [],
   "source": [
    "def dominates(a, b):\n",
    "    return all(a <= b) and any(a < b)\n",
    "\n",
    "def non_dominated_sort(pop):\n",
    "    pareto_front = []\n",
    "    for i, p in enumerate(pop):\n",
    "        if not any(dominates(other, p) for j, other in enumerate(pop) if i != j):\n",
    "            pareto_front.append(p)\n",
    "    return np.array(pareto_front)"
   ]
  },
  {
   "cell_type": "code",
   "execution_count": 6,
   "id": "41155403",
   "metadata": {},
   "outputs": [],
   "source": [
    "def mopso_custom_objectives(\n",
    "    objective_func: Callable[[np.ndarray], np.ndarray],\n",
    "    dim: int = 1,\n",
    "    bounds: List[tuple] = [(0.0, 1.0)],\n",
    "    num_particles: int = 50,\n",
    "    iterations: int = 100,\n",
    "    w: float = 0.5,\n",
    "    c1: float = 1.5,\n",
    "    c2: float = 1.5\n",
    "):\n",
    "    positions = np.random.uniform([b[0] for b in bounds], [b[1] for b in bounds], (num_particles, dim))\n",
    "    velocities = np.zeros_like(positions)\n",
    "    archive = []\n",
    "\n",
    "    for _ in range(iterations):\n",
    "        objectives = np.array([objective_func(p) for p in positions])\n",
    "        archive = non_dominated_sort(list(archive) + list(objectives))\n",
    "\n",
    "        for i in range(num_particles):\n",
    "            leader_idx = np.random.randint(len(archive))\n",
    "            leader = np.random.uniform([b[0] for b in bounds], [b[1] for b in bounds])\n",
    "            r1, r2 = np.random.rand(), np.random.rand()\n",
    "            velocities[i] = (w * velocities[i] +\n",
    "                             c1 * r1 * (leader - positions[i]) +\n",
    "                             c2 * r2 * (leader - positions[i]))\n",
    "            positions[i] += velocities[i]\n",
    "            positions[i] = np.clip(positions[i], [b[0] for b in bounds], [b[1] for b in bounds])\n",
    "\n",
    "    return archive"
   ]
  },
  {
   "cell_type": "code",
   "execution_count": 16,
   "id": "dacbd56e",
   "metadata": {},
   "outputs": [],
   "source": [
    "# Exemple : f1 = x[0], f2 = 1 - sqrt(x[0])\n",
    "def example_objective(x):\n",
    "    f1 = x[0]\n",
    "    f2 = 1 - np.sqrt(x[0])\n",
    "    return np.array([f1, f2])"
   ]
  },
  {
   "cell_type": "code",
   "execution_count": 17,
   "id": "4dfb8fca",
   "metadata": {},
   "outputs": [],
   "source": [
    "archive = mopso_custom_objectives(\n",
    "    objective_func=example_objective,\n",
    "    dim=1,\n",
    "    bounds=[(0.0, 1.0)],\n",
    "    num_particles=50,\n",
    "    iterations=100\n",
    ")"
   ]
  },
  {
   "cell_type": "code",
   "execution_count": 18,
   "id": "e74104b9",
   "metadata": {},
   "outputs": [
    {
     "data": {
      "image/png": "[encoded data removed]",
      "text/plain": [
       "<Figure size 800x600 with 1 Axes>"
      ]
     },
     "metadata": {},
     "output_type": "display_data"
    }
   ],
   "source": [
    "f1_vals = [p[0] for p in archive]\n",
    "f2_vals = [p[1] for p in archive]\n",
    "\n",
    "plt.figure(figsize=(8,6))\n",
    "plt.scatter(f1_vals, f2_vals, c='blue', label=\"Front de Pareto\")\n",
    "plt.xlabel(\"f1(x)\")\n",
    "plt.ylabel(\"f2(x)\")\n",
    "plt.title(\"Front de Pareto approché avec MOPSO\")\n",
    "plt.legend()\n",
    "plt.grid(True)\n",
    "plt.show()"
   ]
  }
 ],
 "metadata": {
  "kernelspec": {
   "display_name": "ox_env",
   "language": "python",
   "name": "python3"
  },
  "language_info": {
   "codemirror_mode": {
    "name": "ipython",
    "version": 3
   },
   "file_extension": ".py",
   "mimetype": "text/x-python",
   "name": "python",
   "nbconvert_exporter": "python",
   "pygments_lexer": "ipython3",
   "version": "3.10.16"
  }
 },
 "nbformat": 4,
 "nbformat_minor": 5
}
